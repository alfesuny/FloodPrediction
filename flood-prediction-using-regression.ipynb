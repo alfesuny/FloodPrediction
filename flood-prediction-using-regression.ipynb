{
 "cells": [
  {
   "cell_type": "raw",
   "id": "42da3f6c",
   "metadata": {
    "_cell_guid": "b1076dfc-b9ad-4769-8c92-a6c4dae69d19",
    "_uuid": "8f2839f25d086af736a60e9eeb907d3b93b6e0e5",
    "execution": {
     "iopub.execute_input": "2024-05-06T17:40:13.307234Z",
     "iopub.status.busy": "2024-05-06T17:40:13.306450Z",
     "iopub.status.idle": "2024-05-06T17:40:13.318388Z",
     "shell.execute_reply": "2024-05-06T17:40:13.317294Z",
     "shell.execute_reply.started": "2024-05-06T17:40:13.307191Z"
    },
    "papermill": {
     "duration": 0.006194,
     "end_time": "2024-05-07T11:40:20.022064",
     "exception": false,
     "start_time": "2024-05-07T11:40:20.015870",
     "status": "completed"
    },
    "tags": []
   },
   "source": [
    "# This Python 3 environment comes with many helpful analytics libraries installed\n",
    "# It is defined by the kaggle/python Docker image: https://github.com/kaggle/docker-python\n",
    "# For example, here's several helpful packages to load\n",
    "\n",
    "import numpy as np # linear algebra\n",
    "import pandas as pd # data processing, CSV file I/O (e.g. pd.read_csv)\n",
    "\n",
    "# Input data files are available in the read-only \"../input/\" directory\n",
    "# For example, running this (by clicking run or pressing Shift+Enter) will list all files under the input directory\n",
    "#\n",
    "import os\n",
    "for dirname, _, filenames in os.walk('/kaggle/input'):\n",
    "    for filename in filenames:\n",
    "        print(os.path.join(dirname, filename))\n",
    "\n",
    "# You can write up to 20GB to the current directory (/kaggle/working/) that gets preserved as output when you create a version using \"Save & Run All\" \n",
    "# You can also write temporary files to /kaggle/temp/, but they won't be saved outside of the current session"
   ]
  },
  {
   "cell_type": "code",
   "execution_count": 1,
   "id": "b29dca12",
   "metadata": {
    "execution": {
     "iopub.execute_input": "2024-05-07T11:40:20.035162Z",
     "iopub.status.busy": "2024-05-07T11:40:20.034849Z",
     "iopub.status.idle": "2024-05-07T11:40:30.636280Z",
     "shell.execute_reply": "2024-05-07T11:40:30.635540Z"
    },
    "papermill": {
     "duration": 10.610229,
     "end_time": "2024-05-07T11:40:30.638476",
     "exception": false,
     "start_time": "2024-05-07T11:40:20.028247",
     "status": "completed"
    },
    "tags": []
   },
   "outputs": [],
   "source": [
    "#@title Libraries\n",
    "#General\n",
    "import pandas as pd\n",
    "import numpy as np\n",
    "import seaborn as sns\n",
    "import matplotlib.pyplot as plt\n",
    "\n",
    "# Data Processing\n",
    "from sklearn.preprocessing import LabelEncoder\n",
    "from sklearn.preprocessing import OrdinalEncoder\n",
    "from sklearn.model_selection import train_test_split\n",
    "from sklearn.preprocessing import StandardScaler\n",
    "#X_train, X_test, y_train, y_test = train_test_split(X, y, test_size=0.33, random_state=42)\n",
    "\n",
    "\n",
    "# Model(ML)\n",
    "from sklearn.ensemble import RandomForestClassifier, VotingClassifier\n",
    "from sklearn.ensemble import GradientBoostingClassifier\n",
    "from sklearn.linear_model import LogisticRegression\n",
    "from sklearn.ensemble import AdaBoostClassifier\n",
    "from sklearn.linear_model import LinearRegression\n",
    "\n",
    "#Framework (DL)\n",
    "import torch\n",
    "from torch import nn\n",
    "\n",
    "# Evaluation\n",
    "from sklearn.metrics import classification_report # (Actual , prediction)\n",
    "from sklearn.metrics import accuracy_score # (Actual , Prediction)\n",
    "from sklearn.metrics import mean_absolute_error #(y_true, y_pred)\n",
    "from sklearn.metrics import mean_squared_error #(y_true, y_pred)\n",
    "from sklearn.metrics import r2_score # (y_true, y_pred)\n",
    "\n",
    "# Imputation\n",
    "from sklearn.impute import SimpleImputer\n",
    "\n",
    "#Dataset\n",
    "from sklearn.datasets import make_circles           #X ,  y = make_circles( n_samples, noise = 0.03 , random_state = 42)\n"
   ]
  },
  {
   "cell_type": "code",
   "execution_count": 2,
   "id": "fc7790b3",
   "metadata": {
    "execution": {
     "iopub.execute_input": "2024-05-07T11:40:30.651830Z",
     "iopub.status.busy": "2024-05-07T11:40:30.650998Z",
     "iopub.status.idle": "2024-05-07T11:40:33.972818Z",
     "shell.execute_reply": "2024-05-07T11:40:33.971836Z"
    },
    "papermill": {
     "duration": 3.330828,
     "end_time": "2024-05-07T11:40:33.975384",
     "exception": false,
     "start_time": "2024-05-07T11:40:30.644556",
     "status": "completed"
    },
    "tags": []
   },
   "outputs": [],
   "source": [
    "train =  pd.read_csv(\"/kaggle/input/playground-series-s4e5/train.csv\")\n",
    "test =  pd.read_csv(\"/kaggle/input/playground-series-s4e5/test.csv\")"
   ]
  },
  {
   "cell_type": "code",
   "execution_count": 3,
   "id": "de6a6c4a",
   "metadata": {
    "execution": {
     "iopub.execute_input": "2024-05-07T11:40:33.988242Z",
     "iopub.status.busy": "2024-05-07T11:40:33.987572Z",
     "iopub.status.idle": "2024-05-07T11:40:34.061363Z",
     "shell.execute_reply": "2024-05-07T11:40:34.060395Z"
    },
    "papermill": {
     "duration": 0.082607,
     "end_time": "2024-05-07T11:40:34.063736",
     "exception": false,
     "start_time": "2024-05-07T11:40:33.981129",
     "status": "completed"
    },
    "tags": []
   },
   "outputs": [],
   "source": [
    "X = train.drop(['id',\"FloodProbability\"] , axis = 1)\n",
    "y =  train[\"FloodProbability\"]"
   ]
  },
  {
   "cell_type": "code",
   "execution_count": 4,
   "id": "932fbd34",
   "metadata": {
    "execution": {
     "iopub.execute_input": "2024-05-07T11:40:34.076418Z",
     "iopub.status.busy": "2024-05-07T11:40:34.076133Z",
     "iopub.status.idle": "2024-05-07T11:40:34.713010Z",
     "shell.execute_reply": "2024-05-07T11:40:34.712114Z"
    },
    "papermill": {
     "duration": 0.645512,
     "end_time": "2024-05-07T11:40:34.715069",
     "exception": false,
     "start_time": "2024-05-07T11:40:34.069557",
     "status": "completed"
    },
    "tags": []
   },
   "outputs": [
    {
     "name": "stdout",
     "output_type": "stream",
     "text": [
      "---------------Scalling & Tensor Conversion Done------------\n"
     ]
    }
   ],
   "source": [
    "X_train, X_test, y_train, y_test = train_test_split(X, y, test_size=0.2, random_state=42)\n",
    "\n",
    "# #-------------------------Scalling----------------------------------\n",
    "# scaler = StandardScaler(  )\n",
    "# X_train = scaler.fit_transform( X_train )\n",
    "# X_test =  scaler.transform( X_test )\n",
    "\n",
    "\n",
    "\n",
    "\n",
    "\n",
    "#---------------------Convert to Tensor-----------------------------\n",
    "X_train = torch.from_numpy( X_train.to_numpy() ).type( torch.float ).to(\"cuda\")\n",
    "y_train  = torch.from_numpy( y_train.to_numpy() ).type( torch.float ).to(\"cuda\")\n",
    "X_test =  torch.from_numpy( X_test.to_numpy() ).type( torch.float ).to(\"cuda\")\n",
    "y_test =  torch.from_numpy( y_test.to_numpy() ) .type( torch.float ).to(\"cuda\")\n",
    "\n",
    "print(\"---------------Scalling & Tensor Conversion Done------------\")"
   ]
  },
  {
   "cell_type": "code",
   "execution_count": 5,
   "id": "874deab4",
   "metadata": {
    "execution": {
     "iopub.execute_input": "2024-05-07T11:40:34.727896Z",
     "iopub.status.busy": "2024-05-07T11:40:34.727199Z",
     "iopub.status.idle": "2024-05-07T11:43:34.407518Z",
     "shell.execute_reply": "2024-05-07T11:43:34.406747Z"
    },
    "papermill": {
     "duration": 179.688859,
     "end_time": "2024-05-07T11:43:34.409677",
     "exception": false,
     "start_time": "2024-05-07T11:40:34.720818",
     "status": "completed"
    },
    "tags": []
   },
   "outputs": [
    {
     "name": "stdout",
     "output_type": "stream",
     "text": [
      "Epoch: 0 MAE: 4.86332 Loss: tensor(28.5227, device='cuda:0', grad_fn=<MseLossBackward0>)\n",
      "Epoch: 100 MAE: 1.6148603 Loss: tensor(4.1358, device='cuda:0', grad_fn=<MseLossBackward0>)\n",
      "Epoch: 200 MAE: 1.6040853 Loss: tensor(4.0773, device='cuda:0', grad_fn=<MseLossBackward0>)\n",
      "Epoch: 300 MAE: 1.5938947 Loss: tensor(4.0133, device='cuda:0', grad_fn=<MseLossBackward0>)\n",
      "Epoch: 400 MAE: 1.5878742 Loss: tensor(3.9475, device='cuda:0', grad_fn=<MseLossBackward0>)\n",
      "Epoch: 500 MAE: 1.564286 Loss: tensor(3.8260, device='cuda:0', grad_fn=<MseLossBackward0>)\n",
      "Epoch: 600 MAE: 1.5364395 Loss: tensor(3.7061, device='cuda:0', grad_fn=<MseLossBackward0>)\n",
      "Epoch: 700 MAE: 1.5062853 Loss: tensor(3.6009, device='cuda:0', grad_fn=<MseLossBackward0>)\n",
      "Epoch: 800 MAE: 1.4861152 Loss: tensor(3.4986, device='cuda:0', grad_fn=<MseLossBackward0>)\n",
      "Epoch: 900 MAE: 1.4546026 Loss: tensor(3.3561, device='cuda:0', grad_fn=<MseLossBackward0>)\n",
      "Epoch: 1000 MAE: 1.4210671 Loss: tensor(3.2086, device='cuda:0', grad_fn=<MseLossBackward0>)\n",
      "Epoch: 1100 MAE: 1.3953581 Loss: tensor(3.1238, device='cuda:0', grad_fn=<MseLossBackward0>)\n",
      "Epoch: 1200 MAE: 1.4037514 Loss: tensor(3.1110, device='cuda:0', grad_fn=<MseLossBackward0>)\n",
      "Epoch: 1300 MAE: 1.3996506 Loss: tensor(3.0888, device='cuda:0', grad_fn=<MseLossBackward0>)\n",
      "Epoch: 1400 MAE: 1.3873906 Loss: tensor(3.0492, device='cuda:0', grad_fn=<MseLossBackward0>)\n",
      "Epoch: 1500 MAE: 1.3983595 Loss: tensor(3.0858, device='cuda:0', grad_fn=<MseLossBackward0>)\n",
      "Epoch: 1600 MAE: 1.393515 Loss: tensor(3.0617, device='cuda:0', grad_fn=<MseLossBackward0>)\n",
      "Epoch: 1700 MAE: 1.3846043 Loss: tensor(3.0354, device='cuda:0', grad_fn=<MseLossBackward0>)\n",
      "Epoch: 1800 MAE: 1.380912 Loss: tensor(3.0276, device='cuda:0', grad_fn=<MseLossBackward0>)\n",
      "Epoch: 1900 MAE: 1.3733258 Loss: tensor(3.0152, device='cuda:0', grad_fn=<MseLossBackward0>)\n",
      "Epoch: 2000 MAE: 1.3670827 Loss: tensor(2.9965, device='cuda:0', grad_fn=<MseLossBackward0>)\n",
      "Epoch: 2100 MAE: 1.3585051 Loss: tensor(2.9594, device='cuda:0', grad_fn=<MseLossBackward0>)\n",
      "Epoch: 2200 MAE: 1.3521945 Loss: tensor(2.9376, device='cuda:0', grad_fn=<MseLossBackward0>)\n",
      "Epoch: 2300 MAE: 1.344701 Loss: tensor(2.8991, device='cuda:0', grad_fn=<MseLossBackward0>)\n",
      "Epoch: 2400 MAE: 1.3547057 Loss: tensor(2.8959, device='cuda:0', grad_fn=<MseLossBackward0>)\n",
      "Epoch: 2500 MAE: 1.3463404 Loss: tensor(2.8653, device='cuda:0', grad_fn=<MseLossBackward0>)\n",
      "Epoch: 2600 MAE: 1.3421208 Loss: tensor(2.8500, device='cuda:0', grad_fn=<MseLossBackward0>)\n",
      "Epoch: 2700 MAE: 1.3363168 Loss: tensor(2.8395, device='cuda:0', grad_fn=<MseLossBackward0>)\n",
      "Epoch: 2800 MAE: 1.3358668 Loss: tensor(2.8612, device='cuda:0', grad_fn=<MseLossBackward0>)\n",
      "Epoch: 2900 MAE: 1.3333476 Loss: tensor(2.8463, device='cuda:0', grad_fn=<MseLossBackward0>)\n",
      "Epoch: 3000 MAE: 1.3332196 Loss: tensor(2.8362, device='cuda:0', grad_fn=<MseLossBackward0>)\n",
      "Epoch: 3100 MAE: 1.3440564 Loss: tensor(2.8585, device='cuda:0', grad_fn=<MseLossBackward0>)\n",
      "Epoch: 3200 MAE: 1.3398486 Loss: tensor(2.8424, device='cuda:0', grad_fn=<MseLossBackward0>)\n",
      "Epoch: 3300 MAE: 1.3384622 Loss: tensor(2.8383, device='cuda:0', grad_fn=<MseLossBackward0>)\n",
      "Epoch: 3400 MAE: 1.3360462 Loss: tensor(2.8336, device='cuda:0', grad_fn=<MseLossBackward0>)\n",
      "Epoch: 3500 MAE: 1.3355858 Loss: tensor(2.8353, device='cuda:0', grad_fn=<MseLossBackward0>)\n",
      "Epoch: 3600 MAE: 1.3328319 Loss: tensor(2.8303, device='cuda:0', grad_fn=<MseLossBackward0>)\n",
      "Epoch: 3700 MAE: 1.331855 Loss: tensor(2.8331, device='cuda:0', grad_fn=<MseLossBackward0>)\n",
      "Epoch: 3800 MAE: 1.3352159 Loss: tensor(2.8561, device='cuda:0', grad_fn=<MseLossBackward0>)\n",
      "Epoch: 3900 MAE: 1.3330847 Loss: tensor(2.8453, device='cuda:0', grad_fn=<MseLossBackward0>)\n",
      "Epoch: 4000 MAE: 1.3317757 Loss: tensor(2.8347, device='cuda:0', grad_fn=<MseLossBackward0>)\n",
      "Epoch: 4100 MAE: 1.3317301 Loss: tensor(2.8306, device='cuda:0', grad_fn=<MseLossBackward0>)\n",
      "Epoch: 4200 MAE: 1.3326681 Loss: tensor(2.8316, device='cuda:0', grad_fn=<MseLossBackward0>)\n",
      "Epoch: 4300 MAE: 1.3327668 Loss: tensor(2.8280, device='cuda:0', grad_fn=<MseLossBackward0>)\n",
      "Epoch: 4400 MAE: 1.3357928 Loss: tensor(2.8327, device='cuda:0', grad_fn=<MseLossBackward0>)\n",
      "Epoch: 4500 MAE: 1.3385834 Loss: tensor(2.8400, device='cuda:0', grad_fn=<MseLossBackward0>)\n",
      "Epoch: 4600 MAE: 1.3404998 Loss: tensor(2.8467, device='cuda:0', grad_fn=<MseLossBackward0>)\n",
      "Epoch: 4700 MAE: 1.3365949 Loss: tensor(2.8338, device='cuda:0', grad_fn=<MseLossBackward0>)\n",
      "Epoch: 4800 MAE: 1.3353428 Loss: tensor(2.8324, device='cuda:0', grad_fn=<MseLossBackward0>)\n",
      "Epoch: 4900 MAE: 1.3331431 Loss: tensor(2.8297, device='cuda:0', grad_fn=<MseLossBackward0>)\n",
      "Epoch: 5000 MAE: 1.3314941 Loss: tensor(2.8283, device='cuda:0', grad_fn=<MseLossBackward0>)\n",
      "Epoch: 5100 MAE: 1.3306658 Loss: tensor(2.8286, device='cuda:0', grad_fn=<MseLossBackward0>)\n",
      "Epoch: 5200 MAE: 1.3316038 Loss: tensor(2.8368, device='cuda:0', grad_fn=<MseLossBackward0>)\n",
      "Epoch: 5300 MAE: 1.3309968 Loss: tensor(2.8356, device='cuda:0', grad_fn=<MseLossBackward0>)\n",
      "Epoch: 5400 MAE: 1.3305777 Loss: tensor(2.8315, device='cuda:0', grad_fn=<MseLossBackward0>)\n",
      "Epoch: 5500 MAE: 1.3307989 Loss: tensor(2.8306, device='cuda:0', grad_fn=<MseLossBackward0>)\n",
      "Epoch: 5600 MAE: 1.3311316 Loss: tensor(2.8300, device='cuda:0', grad_fn=<MseLossBackward0>)\n",
      "Epoch: 5700 MAE: 1.3312932 Loss: tensor(2.8297, device='cuda:0', grad_fn=<MseLossBackward0>)\n",
      "Epoch: 5800 MAE: 1.3305738 Loss: tensor(2.8275, device='cuda:0', grad_fn=<MseLossBackward0>)\n",
      "Epoch: 5900 MAE: 1.3307828 Loss: tensor(2.8324, device='cuda:0', grad_fn=<MseLossBackward0>)\n",
      "Epoch: 6000 MAE: 1.3301972 Loss: tensor(2.8300, device='cuda:0', grad_fn=<MseLossBackward0>)\n",
      "Epoch: 6100 MAE: 1.3304217 Loss: tensor(2.8311, device='cuda:0', grad_fn=<MseLossBackward0>)\n",
      "Epoch: 6200 MAE: 1.3303692 Loss: tensor(2.8314, device='cuda:0', grad_fn=<MseLossBackward0>)\n",
      "Epoch: 6300 MAE: 1.3301055 Loss: tensor(2.8305, device='cuda:0', grad_fn=<MseLossBackward0>)\n",
      "Epoch: 6400 MAE: 1.3304894 Loss: tensor(2.8316, device='cuda:0', grad_fn=<MseLossBackward0>)\n",
      "Epoch: 6500 MAE: 1.3303896 Loss: tensor(2.8274, device='cuda:0', grad_fn=<MseLossBackward0>)\n",
      "Epoch: 6600 MAE: 1.330341 Loss: tensor(2.8269, device='cuda:0', grad_fn=<MseLossBackward0>)\n",
      "Epoch: 6700 MAE: 1.330174 Loss: tensor(2.8275, device='cuda:0', grad_fn=<MseLossBackward0>)\n",
      "Epoch: 6800 MAE: 1.3299391 Loss: tensor(2.8284, device='cuda:0', grad_fn=<MseLossBackward0>)\n",
      "Epoch: 6900 MAE: 1.329733 Loss: tensor(2.8299, device='cuda:0', grad_fn=<MseLossBackward0>)\n",
      "Epoch: 7000 MAE: 1.3298501 Loss: tensor(2.8315, device='cuda:0', grad_fn=<MseLossBackward0>)\n",
      "Epoch: 7100 MAE: 1.3298457 Loss: tensor(2.8290, device='cuda:0', grad_fn=<MseLossBackward0>)\n",
      "Epoch: 7200 MAE: 1.3298249 Loss: tensor(2.8288, device='cuda:0', grad_fn=<MseLossBackward0>)\n",
      "Epoch: 7300 MAE: 1.3296137 Loss: tensor(2.8287, device='cuda:0', grad_fn=<MseLossBackward0>)\n",
      "Epoch: 7400 MAE: 1.3293593 Loss: tensor(2.8281, device='cuda:0', grad_fn=<MseLossBackward0>)\n",
      "Epoch: 7500 MAE: 1.329487 Loss: tensor(2.8282, device='cuda:0', grad_fn=<MseLossBackward0>)\n",
      "Epoch: 7600 MAE: 1.3295174 Loss: tensor(2.8269, device='cuda:0', grad_fn=<MseLossBackward0>)\n",
      "Epoch: 7700 MAE: 1.3295486 Loss: tensor(2.8271, device='cuda:0', grad_fn=<MseLossBackward0>)\n",
      "Epoch: 7800 MAE: 1.3293269 Loss: tensor(2.8272, device='cuda:0', grad_fn=<MseLossBackward0>)\n",
      "Epoch: 7900 MAE: 1.3290654 Loss: tensor(2.8277, device='cuda:0', grad_fn=<MseLossBackward0>)\n",
      "Epoch: 8000 MAE: 1.3289101 Loss: tensor(2.8289, device='cuda:0', grad_fn=<MseLossBackward0>)\n",
      "Epoch: 8100 MAE: 1.3289567 Loss: tensor(2.8283, device='cuda:0', grad_fn=<MseLossBackward0>)\n",
      "Epoch: 8200 MAE: 1.3291487 Loss: tensor(2.8270, device='cuda:0', grad_fn=<MseLossBackward0>)\n",
      "Epoch: 8300 MAE: 1.3291948 Loss: tensor(2.8270, device='cuda:0', grad_fn=<MseLossBackward0>)\n",
      "Epoch: 8400 MAE: 1.328989 Loss: tensor(2.8271, device='cuda:0', grad_fn=<MseLossBackward0>)\n",
      "Epoch: 8500 MAE: 1.3286684 Loss: tensor(2.8270, device='cuda:0', grad_fn=<MseLossBackward0>)\n",
      "Epoch: 8600 MAE: 1.3285375 Loss: tensor(2.8272, device='cuda:0', grad_fn=<MseLossBackward0>)\n",
      "Epoch: 8700 MAE: 1.3285279 Loss: tensor(2.8266, device='cuda:0', grad_fn=<MseLossBackward0>)\n",
      "Epoch: 8800 MAE: 1.3286694 Loss: tensor(2.8266, device='cuda:0', grad_fn=<MseLossBackward0>)\n",
      "Epoch: 8900 MAE: 1.3286284 Loss: tensor(2.8268, device='cuda:0', grad_fn=<MseLossBackward0>)\n",
      "Epoch: 9000 MAE: 1.3283577 Loss: tensor(2.8266, device='cuda:0', grad_fn=<MseLossBackward0>)\n",
      "Epoch: 9100 MAE: 1.3281006 Loss: tensor(2.8269, device='cuda:0', grad_fn=<MseLossBackward0>)\n",
      "Epoch: 9200 MAE: 1.3280933 Loss: tensor(2.8273, device='cuda:0', grad_fn=<MseLossBackward0>)\n",
      "Epoch: 9300 MAE: 1.3281691 Loss: tensor(2.8256, device='cuda:0', grad_fn=<MseLossBackward0>)\n",
      "Epoch: 9400 MAE: 1.3283815 Loss: tensor(2.8256, device='cuda:0', grad_fn=<MseLossBackward0>)\n",
      "Epoch: 9500 MAE: 1.3283067 Loss: tensor(2.8257, device='cuda:0', grad_fn=<MseLossBackward0>)\n",
      "Epoch: 9600 MAE: 1.3280588 Loss: tensor(2.8259, device='cuda:0', grad_fn=<MseLossBackward0>)\n",
      "Epoch: 9700 MAE: 1.3277415 Loss: tensor(2.8260, device='cuda:0', grad_fn=<MseLossBackward0>)\n",
      "Epoch: 9800 MAE: 1.327561 Loss: tensor(2.8263, device='cuda:0', grad_fn=<MseLossBackward0>)\n",
      "Epoch: 9900 MAE: 1.327591 Loss: tensor(2.8260, device='cuda:0', grad_fn=<MseLossBackward0>)\n"
     ]
    }
   ],
   "source": [
    "class AutoEncoder( nn.Module ):\n",
    "  def __init__(self , input_dimentions ):\n",
    "    super().__init__()\n",
    "    self.encoder  = nn.Sequential(\n",
    "        \n",
    "        nn.Linear( in_features = input_dimentions , out_features = 15),\n",
    "        nn.ReLU(),\n",
    "        nn.Linear( in_features = 15, out_features = 10),\n",
    "        \n",
    "        \n",
    "    ) \n",
    "    self.decoder = nn.Sequential(\n",
    "        \n",
    "        nn.Linear( in_features = 10 , out_features = 15),\n",
    "        nn.ReLU(),\n",
    "        nn.Linear( in_features = 15 , out_features = input_dimentions )\n",
    "        \n",
    "    )\n",
    "\n",
    "  def forward( self , x ):\n",
    "    return self.decoder( self.encoder( x ) )\n",
    "\n",
    "\n",
    "\n",
    "#Actual Model\n",
    "Encoder  = AutoEncoder( 20 ).to('cuda')\n",
    "\n",
    "\n",
    "optimizer = torch.optim.SGD( params = Encoder.parameters() , lr = 0.01 )\n",
    "loss_fn  = nn.MSELoss()\n",
    "\n",
    "\n",
    "for epoch in range( 10000 ):\n",
    "\n",
    "  Encoder.train()\n",
    "  y_pred = Encoder( X_train )\n",
    "\n",
    "  loss = loss_fn(   y_pred , X_train   )\n",
    "\n",
    "  \n",
    "  optimizer.zero_grad()\n",
    "  loss.backward()\n",
    "  optimizer.step()\n",
    "\n",
    "  if epoch % 100 == 0 :\n",
    "    Encoder.eval()\n",
    "    with torch.inference_mode():\n",
    "      y_pred_test =  Encoder( X_test )\n",
    "     \n",
    "      print( \"Epoch:\" , epoch , \"MAE:\" , mean_absolute_error( X_test.cpu(), y_pred_test.cpu() ) , end = ' ')\n",
    "      print( \"Loss:\" , loss )"
   ]
  },
  {
   "cell_type": "markdown",
   "id": "90147f38",
   "metadata": {
    "papermill": {
     "duration": 0.012995,
     "end_time": "2024-05-07T11:43:34.436343",
     "exception": false,
     "start_time": "2024-05-07T11:43:34.423348",
     "status": "completed"
    },
    "tags": []
   },
   "source": [
    "**Model Training**"
   ]
  },
  {
   "cell_type": "code",
   "execution_count": null,
   "id": "392e73c5",
   "metadata": {
    "execution": {
     "iopub.execute_input": "2024-05-07T06:50:52.770702Z",
     "iopub.status.busy": "2024-05-07T06:50:52.770251Z",
     "iopub.status.idle": "2024-05-07T06:50:53.102594Z",
     "shell.execute_reply": "2024-05-07T06:50:53.101562Z",
     "shell.execute_reply.started": "2024-05-07T06:50:52.770667Z"
    },
    "papermill": {
     "duration": 0.013063,
     "end_time": "2024-05-07T11:43:34.462553",
     "exception": false,
     "start_time": "2024-05-07T11:43:34.449490",
     "status": "completed"
    },
    "tags": []
   },
   "outputs": [],
   "source": []
  },
  {
   "cell_type": "code",
   "execution_count": 6,
   "id": "260d23a2",
   "metadata": {
    "execution": {
     "iopub.execute_input": "2024-05-07T11:43:34.490362Z",
     "iopub.status.busy": "2024-05-07T11:43:34.489446Z",
     "iopub.status.idle": "2024-05-07T11:43:34.493425Z",
     "shell.execute_reply": "2024-05-07T11:43:34.492593Z"
    },
    "papermill": {
     "duration": 0.019862,
     "end_time": "2024-05-07T11:43:34.495405",
     "exception": false,
     "start_time": "2024-05-07T11:43:34.475543",
     "status": "completed"
    },
    "tags": []
   },
   "outputs": [],
   "source": [
    "\n",
    "# #using Sklearn\n",
    "# regressor = LinearRegression().fit(X_train,y_train)\n",
    "# regressor.score( X_test , y_test )\n",
    "# R2 Score Acheived : 0.8448773362840329"
   ]
  },
  {
   "cell_type": "code",
   "execution_count": 7,
   "id": "3ce498a7",
   "metadata": {
    "execution": {
     "iopub.execute_input": "2024-05-07T11:43:34.522967Z",
     "iopub.status.busy": "2024-05-07T11:43:34.522709Z",
     "iopub.status.idle": "2024-05-07T11:43:34.528329Z",
     "shell.execute_reply": "2024-05-07T11:43:34.527524Z"
    },
    "papermill": {
     "duration": 0.021379,
     "end_time": "2024-05-07T11:43:34.530102",
     "exception": false,
     "start_time": "2024-05-07T11:43:34.508723",
     "status": "completed"
    },
    "tags": []
   },
   "outputs": [],
   "source": [
    "class Model( nn.Module ):\n",
    "  def __init__(self , input_dimentions  , output_dimentions , encoder ):\n",
    "    super().__init__()\n",
    "    self.encoder =  encoder \n",
    "    self.block1  = nn.Sequential(\n",
    "        \n",
    "        nn.Linear( in_features = input_dimentions , out_features = 5),\n",
    "        nn.ReLU(),\n",
    "        nn.Linear( in_features = 5 , out_features = 1)\n",
    "        \n",
    "    ) \n",
    "\n",
    "  def forward( self , x ):\n",
    "    return self.block1( self.encoder( x ) )"
   ]
  },
  {
   "cell_type": "code",
   "execution_count": null,
   "id": "3799fceb",
   "metadata": {
    "papermill": {
     "duration": 0.012813,
     "end_time": "2024-05-07T11:43:34.556072",
     "exception": false,
     "start_time": "2024-05-07T11:43:34.543259",
     "status": "completed"
    },
    "tags": []
   },
   "outputs": [],
   "source": []
  },
  {
   "cell_type": "code",
   "execution_count": 8,
   "id": "171a0401",
   "metadata": {
    "execution": {
     "iopub.execute_input": "2024-05-07T11:43:34.583241Z",
     "iopub.status.busy": "2024-05-07T11:43:34.582862Z",
     "iopub.status.idle": "2024-05-07T11:49:27.062854Z",
     "shell.execute_reply": "2024-05-07T11:49:27.062002Z"
    },
    "papermill": {
     "duration": 352.495903,
     "end_time": "2024-05-07T11:49:27.064976",
     "exception": false,
     "start_time": "2024-05-07T11:43:34.569073",
     "status": "completed"
    },
    "tags": []
   },
   "outputs": [
    {
     "name": "stdout",
     "output_type": "stream",
     "text": [
      "MAE: 0.31481096 R2: -39.41722227663259\n",
      "MAE: 0.06272002 R2: -1.3814537197878214\n",
      "MAE: 0.045202646 R2: -0.23040783025980405\n",
      "MAE: 0.040514212 R2: 0.017643319409673675\n",
      "MAE: 0.03841626 R2: 0.12056860939341318\n",
      "MAE: 0.037222747 R2: 0.17700639939462492\n",
      "MAE: 0.03644072 R2: 0.21310298159223717\n",
      "MAE: 0.03587755 R2: 0.23861644691881723\n",
      "MAE: 0.03544402 R2: 0.2580047751342499\n",
      "MAE: 0.03509213 R2: 0.2735772897998936\n",
      "MAE: 0.034794137 R2: 0.28663665540648375\n",
      "MAE: 0.03453353 R2: 0.29796304849063293\n",
      "MAE: 0.03429913 R2: 0.3080622762167994\n",
      "MAE: 0.034083806 R2: 0.3172682872218334\n",
      "MAE: 0.03388265 R2: 0.3258091823139896\n",
      "MAE: 0.033691946 R2: 0.33384536280623944\n",
      "MAE: 0.033509128 R2: 0.34149136740182984\n",
      "MAE: 0.03333231 R2: 0.3488318423004705\n",
      "MAE: 0.03316023 R2: 0.355927973137132\n",
      "MAE: 0.032991834 R2: 0.3628269686869199\n",
      "MAE: 0.032826245 R2: 0.3695643362112001\n",
      "MAE: 0.032662857 R2: 0.3761683769025713\n",
      "MAE: 0.032501213 R2: 0.38266125879773205\n",
      "MAE: 0.032340925 R2: 0.3890597365222319\n",
      "MAE: 0.0321817 R2: 0.39537617775991707\n",
      "MAE: 0.032023277 R2: 0.40161988718479313\n",
      "MAE: 0.03186549 R2: 0.40779981907214846\n",
      "MAE: 0.03170817 R2: 0.41392261291481103\n",
      "MAE: 0.03155129 R2: 0.41999330456131145\n",
      "MAE: 0.0313947 R2: 0.42601728863589006\n",
      "MAE: 0.031238362 R2: 0.4319957891467028\n",
      "MAE: 0.03108216 R2: 0.4379330700841497\n",
      "MAE: 0.030926079 R2: 0.4438303037201814\n",
      "MAE: 0.030770065 R2: 0.44968865688338255\n",
      "MAE: 0.030614138 R2: 0.45550800165699923\n",
      "MAE: 0.03045825 R2: 0.4612907886331935\n",
      "MAE: 0.03030238 R2: 0.46703701399988695\n",
      "MAE: 0.030146565 R2: 0.4727462378128894\n",
      "MAE: 0.029990785 R2: 0.47841905669259766\n",
      "MAE: 0.029835125 R2: 0.4840551083403538\n",
      "MAE: 0.02967949 R2: 0.48965429706745534\n",
      "MAE: 0.02952394 R2: 0.49521661001242534\n",
      "MAE: 0.029368486 R2: 0.5007412656048826\n",
      "MAE: 0.029213138 R2: 0.5062293263052893\n",
      "MAE: 0.029057967 R2: 0.5116786904848677\n",
      "MAE: 0.028902913 R2: 0.5170909570806688\n",
      "MAE: 0.028748048 R2: 0.5224636260615332\n",
      "MAE: 0.028593369 R2: 0.5277963231974248\n",
      "MAE: 0.028438913 R2: 0.5330885310743548\n",
      "MAE: 0.028284706 R2: 0.538340150800152\n",
      "MAE: 0.02813078 R2: 0.5435500177932477\n",
      "MAE: 0.027977178 R2: 0.5487175998318783\n",
      "MAE: 0.027823897 R2: 0.5538425246462344\n",
      "MAE: 0.027670966 R2: 0.5589239497352303\n",
      "MAE: 0.027518397 R2: 0.5639615675471431\n",
      "MAE: 0.02736623 R2: 0.568954814958716\n",
      "MAE: 0.027214475 R2: 0.5739031136901165\n",
      "MAE: 0.027063182 R2: 0.578805644935078\n",
      "MAE: 0.02691234 R2: 0.5836617130853888\n",
      "MAE: 0.02676196 R2: 0.5884711304649588\n",
      "MAE: 0.02661208 R2: 0.5932329607498878\n",
      "MAE: 0.026462734 R2: 0.5979471903588821\n",
      "MAE: 0.026313962 R2: 0.6026127412566624\n",
      "MAE: 0.02616581 R2: 0.6072293762044169\n",
      "MAE: 0.026018228 R2: 0.6117971536453681\n",
      "MAE: 0.025871335 R2: 0.6163144454399931\n",
      "MAE: 0.02572514 R2: 0.6207814763960683\n",
      "MAE: 0.025579654 R2: 0.625198168384193\n",
      "MAE: 0.025434975 R2: 0.6295632351720242\n",
      "MAE: 0.025291074 R2: 0.633876402346534\n",
      "MAE: 0.025147995 R2: 0.6381378975129682\n",
      "MAE: 0.025005804 R2: 0.6423474245827555\n",
      "MAE: 0.024864465 R2: 0.6465047004402115\n",
      "MAE: 0.024724051 R2: 0.650608941293422\n",
      "MAE: 0.024584515 R2: 0.6546599795687716\n",
      "MAE: 0.024445944 R2: 0.6586572111223739\n",
      "MAE: 0.024308423 R2: 0.6626008192253237\n",
      "MAE: 0.024171976 R2: 0.6664906787673575\n",
      "MAE: 0.024036614 R2: 0.6703263154407246\n",
      "MAE: 0.023902325 R2: 0.6741083097697237\n",
      "MAE: 0.023769086 R2: 0.6778365574326697\n",
      "MAE: 0.023636917 R2: 0.6815103036140842\n",
      "MAE: 0.023505896 R2: 0.6851295325133263\n",
      "MAE: 0.023376018 R2: 0.6886939447362633\n",
      "MAE: 0.023247244 R2: 0.6922039647304865\n",
      "MAE: 0.023119695 R2: 0.6956591305632974\n",
      "MAE: 0.022993384 R2: 0.6990598299737941\n",
      "MAE: 0.022868302 R2: 0.7024061660069593\n",
      "MAE: 0.022744441 R2: 0.7056981471116588\n",
      "MAE: 0.022621837 R2: 0.7089357607960859\n",
      "MAE: 0.022500426 R2: 0.712119158441657\n",
      "MAE: 0.02238027 R2: 0.715248259291638\n",
      "MAE: 0.022261426 R2: 0.7183237902159254\n",
      "MAE: 0.02214387 R2: 0.7213456871110064\n",
      "MAE: 0.022027604 R2: 0.724313487715692\n",
      "MAE: 0.021912608 R2: 0.7272283367534631\n",
      "MAE: 0.021798909 R2: 0.73009077290008\n",
      "MAE: 0.021686506 R2: 0.7329004371579206\n",
      "MAE: 0.021575391 R2: 0.7356571849619546\n",
      "MAE: 0.021465605 R2: 0.7383612669098034\n",
      "MAE: 0.021357145 R2: 0.7410138243251985\n",
      "MAE: 0.021250015 R2: 0.743615061748303\n",
      "MAE: 0.021144195 R2: 0.7461649652535249\n",
      "MAE: 0.021039683 R2: 0.7486643589876762\n",
      "MAE: 0.020936405 R2: 0.7511135782659577\n",
      "MAE: 0.020834448 R2: 0.753512797889603\n",
      "MAE: 0.020733811 R2: 0.7558620214536028\n",
      "MAE: 0.020634485 R2: 0.7581627049348727\n",
      "MAE: 0.020536454 R2: 0.7604147763363761\n",
      "MAE: 0.020439757 R2: 0.7626186835257021\n",
      "MAE: 0.02034435 R2: 0.7647754447945563\n",
      "MAE: 0.02025028 R2: 0.7668849624482411\n",
      "MAE: 0.020157473 R2: 0.7689484527513663\n",
      "MAE: 0.020065986 R2: 0.770965970757939\n",
      "MAE: 0.019975789 R2: 0.772938623975894\n",
      "MAE: 0.019886937 R2: 0.7748660838416327\n",
      "MAE: 0.019799387 R2: 0.7767496644413335\n",
      "MAE: 0.019713167 R2: 0.7785898045130776\n",
      "MAE: 0.019628279 R2: 0.7803871234950098\n",
      "MAE: 0.019544719 R2: 0.7821419158147971\n",
      "MAE: 0.019462502 R2: 0.783855041511818\n",
      "MAE: 0.01938163 R2: 0.7855273338382027\n",
      "MAE: 0.019302092 R2: 0.7871593953451654\n",
      "MAE: 0.019223928 R2: 0.7887511195278589\n",
      "MAE: 0.019147081 R2: 0.7903042660793125\n",
      "MAE: 0.019071568 R2: 0.7918191224622624\n",
      "MAE: 0.018997412 R2: 0.7932960959504426\n",
      "MAE: 0.018924588 R2: 0.794736002379566\n",
      "MAE: 0.018853085 R2: 0.7961395176025298\n",
      "MAE: 0.01878291 R2: 0.7975075361741455\n",
      "MAE: 0.018714054 R2: 0.7988401034991677\n",
      "MAE: 0.018646479 R2: 0.8001383341318326\n",
      "MAE: 0.018580187 R2: 0.8014028965371043\n",
      "MAE: 0.018515158 R2: 0.8026343155409792\n",
      "MAE: 0.018451426 R2: 0.8038331185362322\n",
      "MAE: 0.018388946 R2: 0.8050002310686069\n",
      "MAE: 0.018327707 R2: 0.8061364439397466\n",
      "MAE: 0.018267693 R2: 0.8072420435299874\n",
      "MAE: 0.018208902 R2: 0.808318000424391\n",
      "MAE: 0.018151326 R2: 0.8093647743660205\n",
      "MAE: 0.018094972 R2: 0.8103830268818559\n",
      "MAE: 0.018039826 R2: 0.8113734892432863\n",
      "MAE: 0.017985906 R2: 0.8123362878203608\n",
      "MAE: 0.017933156 R2: 0.8132726654058489\n",
      "MAE: 0.017881576 R2: 0.8141828539701852\n",
      "MAE: 0.017831108 R2: 0.8150680284101\n",
      "MAE: 0.017781764 R2: 0.815928238304978\n",
      "MAE: 0.0177335 R2: 0.8167641912255788\n",
      "MAE: 0.017686315 R2: 0.8175767918565038\n",
      "MAE: 0.017640213 R2: 0.8183661537924052\n",
      "MAE: 0.017595248 R2: 0.8191331319730455\n",
      "MAE: 0.0175514 R2: 0.8198782181126271\n",
      "MAE: 0.017508581 R2: 0.820601877662807\n",
      "MAE: 0.01746676 R2: 0.8213047388532044\n",
      "MAE: 0.017425962 R2: 0.8219873719202686\n",
      "MAE: 0.017386174 R2: 0.8226502866820634\n",
      "MAE: 0.017347358 R2: 0.8232940305745222\n",
      "MAE: 0.017309498 R2: 0.8239192446866797\n",
      "MAE: 0.017272606 R2: 0.824525927784208\n",
      "MAE: 0.017236602 R2: 0.8251150101335137\n",
      "MAE: 0.017201493 R2: 0.8256869371445593\n",
      "MAE: 0.017167276 R2: 0.8262421874012326\n",
      "MAE: 0.017133921 R2: 0.826781094472745\n",
      "MAE: 0.017101435 R2: 0.8273042376650922\n",
      "MAE: 0.017069815 R2: 0.8278119002164289\n",
      "MAE: 0.017039007 R2: 0.8283046056367903\n",
      "MAE: 0.017009033 R2: 0.8287825336289953\n",
      "MAE: 0.016979842 R2: 0.8292465313801047\n",
      "MAE: 0.016951436 R2: 0.8296966835899764\n",
      "MAE: 0.016923863 R2: 0.8301334986136423\n",
      "MAE: 0.016897045 R2: 0.830557386149675\n",
      "MAE: 0.01687096 R2: 0.8309686371340854\n",
      "MAE: 0.016845709 R2: 0.831367706120806\n",
      "MAE: 0.016821178 R2: 0.8317548712298488\n",
      "MAE: 0.0167974 R2: 0.8321305199311506\n",
      "MAE: 0.016774377 R2: 0.832495073341355\n",
      "MAE: 0.016752057 R2: 0.8328485862038613\n",
      "MAE: 0.016730418 R2: 0.8331916571119737\n",
      "MAE: 0.0167095 R2: 0.8335246431374134\n",
      "MAE: 0.016689224 R2: 0.8338475510693614\n"
     ]
    }
   ],
   "source": [
    "Encoder.eval()\n",
    "\n",
    "device = 'cuda'  #'gpu'\n",
    "learning_rate = 0.01\n",
    "total_epoch =  18000\n",
    "\n",
    "#Actual Model\n",
    "model  = Model( 20 , 1  , Encoder).to(device)\n",
    "\n",
    "\n",
    "optimizer = torch.optim.SGD( params = model.parameters() , lr = learning_rate )\n",
    "loss_fn  = nn.MSELoss()\n",
    "\n",
    "\n",
    "#training Loop\n",
    "for epoch in range( total_epoch ):\n",
    "\n",
    "  model.train()\n",
    "  y_pred = model( X_train )\n",
    "\n",
    "\n",
    "  loss = loss_fn(   y_pred.squeeze() , y_train   )\n",
    "#   print( loss )   \n",
    "  optimizer.zero_grad()\n",
    "  loss.backward()\n",
    "  optimizer.step()\n",
    "\n",
    "  if epoch % 100 == 0 :\n",
    "    model.eval()\n",
    "    with torch.inference_mode():\n",
    "      y_pred_test =  model( X_test ).cpu().squeeze()\n",
    "     \n",
    "      print( \"MAE:\" , mean_absolute_error( y_test.cpu() , y_pred_test ) , end = ' ')\n",
    "      print( \"R2:\" , r2_score( y_test.cpu() , y_pred_test) )\n"
   ]
  },
  {
   "cell_type": "code",
   "execution_count": 9,
   "id": "d8d2372b",
   "metadata": {
    "execution": {
     "iopub.execute_input": "2024-05-07T11:49:27.119689Z",
     "iopub.status.busy": "2024-05-07T11:49:27.119380Z",
     "iopub.status.idle": "2024-05-07T11:49:27.126125Z",
     "shell.execute_reply": "2024-05-07T11:49:27.125308Z"
    },
    "papermill": {
     "duration": 0.03613,
     "end_time": "2024-05-07T11:49:27.128041",
     "exception": false,
     "start_time": "2024-05-07T11:49:27.091911",
     "status": "completed"
    },
    "tags": []
   },
   "outputs": [
    {
     "data": {
      "text/plain": [
       "(745305, 21)"
      ]
     },
     "execution_count": 9,
     "metadata": {},
     "output_type": "execute_result"
    }
   ],
   "source": [
    "test.shape"
   ]
  },
  {
   "cell_type": "code",
   "execution_count": 10,
   "id": "30c50f00",
   "metadata": {
    "execution": {
     "iopub.execute_input": "2024-05-07T11:49:27.183210Z",
     "iopub.status.busy": "2024-05-07T11:49:27.182923Z",
     "iopub.status.idle": "2024-05-07T11:49:27.476309Z",
     "shell.execute_reply": "2024-05-07T11:49:27.475315Z"
    },
    "papermill": {
     "duration": 0.323603,
     "end_time": "2024-05-07T11:49:27.478754",
     "exception": false,
     "start_time": "2024-05-07T11:49:27.155151",
     "status": "completed"
    },
    "tags": []
   },
   "outputs": [],
   "source": [
    "X_test = torch.from_numpy( test.drop('id' , axis =  1).to_numpy() ).type( torch.float ).to('cuda')"
   ]
  },
  {
   "cell_type": "code",
   "execution_count": 11,
   "id": "b2c6e66f",
   "metadata": {
    "execution": {
     "iopub.execute_input": "2024-05-07T11:49:27.536271Z",
     "iopub.status.busy": "2024-05-07T11:49:27.535687Z",
     "iopub.status.idle": "2024-05-07T11:49:27.541536Z",
     "shell.execute_reply": "2024-05-07T11:49:27.540830Z"
    },
    "papermill": {
     "duration": 0.037042,
     "end_time": "2024-05-07T11:49:27.543530",
     "exception": false,
     "start_time": "2024-05-07T11:49:27.506488",
     "status": "completed"
    },
    "tags": []
   },
   "outputs": [],
   "source": [
    "model.eval()\n",
    "with torch.inference_mode():\n",
    "    prediction =  model( X_test )"
   ]
  },
  {
   "cell_type": "code",
   "execution_count": 12,
   "id": "39b19598",
   "metadata": {
    "execution": {
     "iopub.execute_input": "2024-05-07T11:49:27.600147Z",
     "iopub.status.busy": "2024-05-07T11:49:27.599859Z",
     "iopub.status.idle": "2024-05-07T11:49:27.604299Z",
     "shell.execute_reply": "2024-05-07T11:49:27.603451Z"
    },
    "papermill": {
     "duration": 0.034695,
     "end_time": "2024-05-07T11:49:27.606292",
     "exception": false,
     "start_time": "2024-05-07T11:49:27.571597",
     "status": "completed"
    },
    "tags": []
   },
   "outputs": [],
   "source": [
    "prediction = prediction.squeeze().cpu()"
   ]
  },
  {
   "cell_type": "code",
   "execution_count": 13,
   "id": "a18c1ff8",
   "metadata": {
    "execution": {
     "iopub.execute_input": "2024-05-07T11:49:27.661529Z",
     "iopub.status.busy": "2024-05-07T11:49:27.661208Z",
     "iopub.status.idle": "2024-05-07T11:49:29.209562Z",
     "shell.execute_reply": "2024-05-07T11:49:29.208580Z"
    },
    "papermill": {
     "duration": 1.5786,
     "end_time": "2024-05-07T11:49:29.211876",
     "exception": false,
     "start_time": "2024-05-07T11:49:27.633276",
     "status": "completed"
    },
    "tags": []
   },
   "outputs": [],
   "source": [
    "submission = pd.DataFrame(\n",
    "    {\n",
    "    'id': test[\"id\"],\n",
    "    'FloodProbabiliy': prediction\n",
    "    }\n",
    ")\n",
    "submission.to_csv(\"submission.csv\" , index = False)"
   ]
  },
  {
   "cell_type": "code",
   "execution_count": 14,
   "id": "f591f7b8",
   "metadata": {
    "execution": {
     "iopub.execute_input": "2024-05-07T11:49:29.266982Z",
     "iopub.status.busy": "2024-05-07T11:49:29.266674Z",
     "iopub.status.idle": "2024-05-07T11:49:30.818536Z",
     "shell.execute_reply": "2024-05-07T11:49:30.817779Z"
    },
    "papermill": {
     "duration": 1.581766,
     "end_time": "2024-05-07T11:49:30.820880",
     "exception": false,
     "start_time": "2024-05-07T11:49:29.239114",
     "status": "completed"
    },
    "tags": []
   },
   "outputs": [],
   "source": [
    "submission.to_csv(\"submission.csv\" , index = False)"
   ]
  },
  {
   "cell_type": "code",
   "execution_count": 15,
   "id": "72f2b07c",
   "metadata": {
    "execution": {
     "iopub.execute_input": "2024-05-07T11:49:30.875885Z",
     "iopub.status.busy": "2024-05-07T11:49:30.875614Z",
     "iopub.status.idle": "2024-05-07T11:49:30.890190Z",
     "shell.execute_reply": "2024-05-07T11:49:30.889277Z"
    },
    "papermill": {
     "duration": 0.044059,
     "end_time": "2024-05-07T11:49:30.892109",
     "exception": false,
     "start_time": "2024-05-07T11:49:30.848050",
     "status": "completed"
    },
    "tags": []
   },
   "outputs": [
    {
     "data": {
      "text/html": [
       "<div>\n",
       "<style scoped>\n",
       "    .dataframe tbody tr th:only-of-type {\n",
       "        vertical-align: middle;\n",
       "    }\n",
       "\n",
       "    .dataframe tbody tr th {\n",
       "        vertical-align: top;\n",
       "    }\n",
       "\n",
       "    .dataframe thead th {\n",
       "        text-align: right;\n",
       "    }\n",
       "</style>\n",
       "<table border=\"1\" class=\"dataframe\">\n",
       "  <thead>\n",
       "    <tr style=\"text-align: right;\">\n",
       "      <th></th>\n",
       "      <th>id</th>\n",
       "      <th>FloodProbabiliy</th>\n",
       "    </tr>\n",
       "  </thead>\n",
       "  <tbody>\n",
       "    <tr>\n",
       "      <th>0</th>\n",
       "      <td>1117957</td>\n",
       "      <td>0.567205</td>\n",
       "    </tr>\n",
       "    <tr>\n",
       "      <th>1</th>\n",
       "      <td>1117958</td>\n",
       "      <td>0.460423</td>\n",
       "    </tr>\n",
       "    <tr>\n",
       "      <th>2</th>\n",
       "      <td>1117959</td>\n",
       "      <td>0.459492</td>\n",
       "    </tr>\n",
       "    <tr>\n",
       "      <th>3</th>\n",
       "      <td>1117960</td>\n",
       "      <td>0.471139</td>\n",
       "    </tr>\n",
       "    <tr>\n",
       "      <th>4</th>\n",
       "      <td>1117961</td>\n",
       "      <td>0.467940</td>\n",
       "    </tr>\n",
       "    <tr>\n",
       "      <th>...</th>\n",
       "      <td>...</td>\n",
       "      <td>...</td>\n",
       "    </tr>\n",
       "    <tr>\n",
       "      <th>745300</th>\n",
       "      <td>1863257</td>\n",
       "      <td>0.480418</td>\n",
       "    </tr>\n",
       "    <tr>\n",
       "      <th>745301</th>\n",
       "      <td>1863258</td>\n",
       "      <td>0.453272</td>\n",
       "    </tr>\n",
       "    <tr>\n",
       "      <th>745302</th>\n",
       "      <td>1863259</td>\n",
       "      <td>0.612207</td>\n",
       "    </tr>\n",
       "    <tr>\n",
       "      <th>745303</th>\n",
       "      <td>1863260</td>\n",
       "      <td>0.545476</td>\n",
       "    </tr>\n",
       "    <tr>\n",
       "      <th>745304</th>\n",
       "      <td>1863261</td>\n",
       "      <td>0.510708</td>\n",
       "    </tr>\n",
       "  </tbody>\n",
       "</table>\n",
       "<p>745305 rows × 2 columns</p>\n",
       "</div>"
      ],
      "text/plain": [
       "             id  FloodProbabiliy\n",
       "0       1117957         0.567205\n",
       "1       1117958         0.460423\n",
       "2       1117959         0.459492\n",
       "3       1117960         0.471139\n",
       "4       1117961         0.467940\n",
       "...         ...              ...\n",
       "745300  1863257         0.480418\n",
       "745301  1863258         0.453272\n",
       "745302  1863259         0.612207\n",
       "745303  1863260         0.545476\n",
       "745304  1863261         0.510708\n",
       "\n",
       "[745305 rows x 2 columns]"
      ]
     },
     "execution_count": 15,
     "metadata": {},
     "output_type": "execute_result"
    }
   ],
   "source": [
    "submission"
   ]
  }
 ],
 "metadata": {
  "kaggle": {
   "accelerator": "nvidiaTeslaT4",
   "dataSources": [
    {
     "databundleVersionId": 8121328,
     "sourceId": 73278,
     "sourceType": "competition"
    }
   ],
   "dockerImageVersionId": 30698,
   "isGpuEnabled": true,
   "isInternetEnabled": true,
   "language": "python",
   "sourceType": "notebook"
  },
  "kernelspec": {
   "display_name": "Python 3",
   "language": "python",
   "name": "python3"
  },
  "language_info": {
   "codemirror_mode": {
    "name": "ipython",
    "version": 3
   },
   "file_extension": ".py",
   "mimetype": "text/x-python",
   "name": "python",
   "nbconvert_exporter": "python",
   "pygments_lexer": "ipython3",
   "version": "3.10.13"
  },
  "papermill": {
   "default_parameters": {},
   "duration": 558.187208,
   "end_time": "2024-05-07T11:49:34.337256",
   "environment_variables": {},
   "exception": null,
   "input_path": "__notebook__.ipynb",
   "output_path": "__notebook__.ipynb",
   "parameters": {},
   "start_time": "2024-05-07T11:40:16.150048",
   "version": "2.5.0"
  }
 },
 "nbformat": 4,
 "nbformat_minor": 5
}
